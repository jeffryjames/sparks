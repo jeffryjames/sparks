{
  "nbformat": 4,
  "nbformat_minor": 0,
  "metadata": {
    "colab": {
      "name": "Sparks_Task2_KMeans_Clustering.ipynb",
      "provenance": [],
      "collapsed_sections": []
    },
    "kernelspec": {
      "name": "python3",
      "display_name": "Python 3"
    },
    "language_info": {
      "name": "python"
    }
  },
  "cells": [
    {
      "cell_type": "code",
      "metadata": {
        "id": "FGOS9ym3rCNu"
      },
      "source": [
        "import pandas as pd\n",
        "from sklearn import datasets\n",
        "\n",
        "iris = datasets.load_iris()\n",
        "print(iris)\n",
        "data = pd.DataFrame(iris.data, columns= iris.feature_names)\n",
        "print(data)\n",
        "\n",
        "print(data.head(5))\n",
        "print(data.shape)\n",
        "\n",
        "X = data.iloc[:,:-1].values\n",
        "print(X)\n",
        "\n",
        "from sklearn.cluster import KMeans\n",
        "wcss = []\n",
        "\n",
        "for i in range(1,11):\n",
        "    kmeans = KMeans(n_clusters = i, init = 'k-means++',max_iter=300, n_init=10,random_state = 0)\n",
        "    kmeans.fit(X)\n",
        "    wcss.append(kmeans.inertia_)\n",
        "    \n",
        "    \n",
        "import matplotlib.pyplot as plt\n",
        "plt.plot(range(1,11),wcss)\n",
        "plt.title('The elbow method')\n",
        "plt.xlabel('Number of clusters')\n",
        "plt.ylabel('WCSS')\n",
        "plt.show()\n",
        "\n",
        "kmeans = KMeans(n_clusters =3,init = \"k-means++\",max_iter = 300, n_init=10,random_state=0)\n",
        "y_kmeans = kmeans.fit_predict(X)\n",
        "\n",
        "plt.scatter(X[y_kmeans == 0, 0], X[y_kmeans == 0, 1],s = 100, c = 'red', label = 'Iris-setosa')\n",
        "plt.scatter(X[y_kmeans == 1, 0], X[y_kmeans == 1, 1],s = 100, c = 'blue', label = 'Iris-versicolour')\n",
        "plt.scatter(X[y_kmeans == 2, 0], X[y_kmeans == 2, 1],s = 100, c = 'green', label = 'Iris-virginica')\n",
        "\n",
        "# Plotting the centroids of the clusters\n",
        "\n",
        "plt.scatter(kmeans.cluster_centers_[:, 0], kmeans.cluster_centers_[:,1],s = 100, c = 'yellow', label = 'Centroids')\n",
        "\n",
        "plt.legend()\n"
      ],
      "execution_count": null,
      "outputs": []
    }
  ]
}